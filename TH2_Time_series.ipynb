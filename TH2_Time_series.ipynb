{
 "cells": [
  {
   "cell_type": "code",
   "execution_count": 9,
   "id": "257bb118",
   "metadata": {},
   "outputs": [],
   "source": [
    "import os\n",
    "import numpy as np\n",
    "import librosa\n",
    "from hmmlearn import hmm\n",
    "from pykalman import KalmanFilter\n",
    "from sklearn.model_selection import train_test_split\n",
    "from sklearn.metrics import accuracy_score"
   ]
  },
  {
   "cell_type": "code",
   "execution_count": 10,
   "id": "53f06130",
   "metadata": {},
   "outputs": [
    {
     "name": "stdout",
     "output_type": "stream",
     "text": [
      "9\n"
     ]
    }
   ],
   "source": [
    "a=int(2251262633%15+1)\n",
    "print(a)"
   ]
  },
  {
   "cell_type": "code",
   "execution_count": 11,
   "id": "0ad01a70",
   "metadata": {},
   "outputs": [],
   "source": [
    "DATA_DIR = r\"C:\\Users\\admin\\OneDrive\\Time_series\\data\"  # Đảm bảo thư mục này chứa 'off' và 'up'\n",
    "ALLOWED_LABELS = {'off', 'up'}  # Chỉ nhận dạng 2 từ này\n",
    "N_MFCC =16\n",
    "N_HMM_STATES = 3\n",
    "def extract_mfcc(file_path):\n",
    "    y, sr = librosa.load(file_path, sr=16000)\n",
    "    mfcc = librosa.feature.mfcc(y=y, sr=sr, n_mfcc=N_MFCC)\n",
    "    return mfcc.T"
   ]
  },
  {
   "cell_type": "code",
   "execution_count": 12,
   "id": "7043574e",
   "metadata": {},
   "outputs": [],
   "source": [
    "def apply_kalman(mfcc):\n",
    "    kf = KalmanFilter(initial_state_mean=mfcc[0], n_dim_obs=mfcc.shape[1])\n",
    "    smoothed_mfcc, _ = kf.smooth(mfcc)\n",
    "    return smoothed_mfcc"
   ]
  },
  {
   "cell_type": "code",
   "execution_count": 13,
   "id": "4a9ee505",
   "metadata": {},
   "outputs": [],
   "source": [
    "def train_hmm_model(feature_list):\n",
    "    all_features = np.vstack(feature_list)\n",
    "    model = hmm.GaussianHMM(n_components=N_HMM_STATES, covariance_type='diag', n_iter=100)\n",
    "    model.fit(all_features)\n",
    "    return model"
   ]
  },
  {
   "cell_type": "code",
   "execution_count": 14,
   "id": "49641a36",
   "metadata": {},
   "outputs": [],
   "source": [
    "def load_dataset(apply_kalman_filter=False):\n",
    "    X = []\n",
    "    y = []\n",
    "    for label in os.listdir(DATA_DIR):\n",
    "        if label not in ALLOWED_LABELS:\n",
    "            continue  # Bỏ qua các thư mục không phải 'off' hoặc 'up'\n",
    "        label_path = os.path.join(DATA_DIR, label)\n",
    "        if not os.path.isdir(label_path):\n",
    "            continue\n",
    "        for filename in os.listdir(label_path):\n",
    "            if filename.lower().endswith(\".wav\"):\n",
    "                file_path = os.path.join(label_path, filename)\n",
    "                mfcc = extract_mfcc(file_path)\n",
    "                if apply_kalman_filter:\n",
    "                    mfcc = apply_kalman(mfcc)\n",
    "                X.append(mfcc)\n",
    "                y.append(label)\n",
    "    return X, y"
   ]
  },
  {
   "cell_type": "code",
   "execution_count": 15,
   "id": "63eabc27",
   "metadata": {},
   "outputs": [],
   "source": [
    "def predict(models, sample):\n",
    "    scores = {label: model.score(sample) for label, model in models.items()}\n",
    "    return max(scores, key=scores.get)\n",
    "\n",
    "# === ĐÁNH GIÁ ===\n",
    "def evaluate_model(X_test, y_test, models):\n",
    "    predictions = [predict(models, sample) for sample in X_test]\n",
    "    return accuracy_score(y_test, predictions), predictions\n"
   ]
  },
  {
   "cell_type": "code",
   "execution_count": 16,
   "id": "65133e81",
   "metadata": {},
   "outputs": [
    {
     "name": "stdout",
     "output_type": "stream",
     "text": [
      "==== NHẬN DẠNG VỚI HMM ====\n",
      "Tổng mẫu âm thanh (không dùng Kalman): 4737\n",
      " Độ chính xác HMM: 66.95%\n",
      "\n",
      "==== NHẬN DẠNG VỚI HMM + KALMAN ====\n",
      "Tổng mẫu âm thanh (dùng Kalman): 4737\n",
      " Độ chính xác HMM + Kalman: 67.30%\n",
      "\n",
      "==== KẾT THÚC ====\n"
     ]
    }
   ],
   "source": [
    "def main():\n",
    "    print(\"==== NHẬN DẠNG VỚI HMM ====\")\n",
    "    X, y = load_dataset(apply_kalman_filter=False)\n",
    "    print(f\"Tổng mẫu âm thanh (không dùng Kalman): {len(X)}\")\n",
    "    X_train, X_test, y_train, y_test = train_test_split(X, y, test_size=0.3, random_state=42)\n",
    "\n",
    "    hmm_models = {}\n",
    "    for label in set(y_train):\n",
    "        features = [x for x, label_y in zip(X_train, y_train) if label_y == label]\n",
    "        hmm_models[label] = train_hmm_model(features)\n",
    "\n",
    "    acc_hmm, pred_hmm = evaluate_model(X_test, y_test, hmm_models)\n",
    "    print(f\" Độ chính xác HMM: {acc_hmm:.2%}\")\n",
    "\n",
    "    print(\"\\n==== NHẬN DẠNG VỚI HMM + KALMAN ====\")\n",
    "    X_kf, y_kf = load_dataset(apply_kalman_filter=True)\n",
    "    print(f\"Tổng mẫu âm thanh (dùng Kalman): {len(X_kf)}\")\n",
    "    X_train_kf, X_test_kf, y_train_kf, y_test_kf = train_test_split(X_kf, y_kf, test_size=0.3, random_state=42)\n",
    "\n",
    "    hmm_kalman_models = {}\n",
    "    for label in set(y_train_kf):\n",
    "        features = [x for x, label_y in zip(X_train_kf, y_train_kf) if label_y == label]\n",
    "        hmm_kalman_models[label] = train_hmm_model(features)\n",
    "\n",
    "    acc_kf, pred_kf = evaluate_model(X_test_kf, y_test_kf, hmm_kalman_models)\n",
    "    print(f\" Độ chính xác HMM + Kalman: {acc_kf:.2%}\")\n",
    "\n",
    "    print(\"\\n==== KẾT THÚC ====\")\n",
    "\n",
    "if __name__ == \"__main__\":\n",
    "    main()"
   ]
  },
  {
   "cell_type": "code",
   "execution_count": null,
   "id": "738147e1",
   "metadata": {},
   "outputs": [],
   "source": []
  }
 ],
 "metadata": {
  "kernelspec": {
   "display_name": "Python 3",
   "language": "python",
   "name": "python3"
  },
  "language_info": {
   "codemirror_mode": {
    "name": "ipython",
    "version": 3
   },
   "file_extension": ".py",
   "mimetype": "text/x-python",
   "name": "python",
   "nbconvert_exporter": "python",
   "pygments_lexer": "ipython3",
   "version": "3.11.4"
  }
 },
 "nbformat": 4,
 "nbformat_minor": 5
}
